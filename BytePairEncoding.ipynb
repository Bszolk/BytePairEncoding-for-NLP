{
  "nbformat": 4,
  "nbformat_minor": 0,
  "metadata": {
    "colab": {
      "provenance": [],
      "authorship_tag": "ABX9TyNX/HZEiZZkdcQqhvagazNb",
      "include_colab_link": true
    },
    "kernelspec": {
      "name": "python3",
      "display_name": "Python 3"
    },
    "language_info": {
      "name": "python"
    }
  },
  "cells": [
    {
      "cell_type": "markdown",
      "metadata": {
        "id": "view-in-github",
        "colab_type": "text"
      },
      "source": [
        "<a href=\"https://colab.research.google.com/github/Bszolk/BytePairEncoding-for-NLP/blob/main/BytePairEncoding.ipynb\" target=\"_parent\"><img src=\"https://colab.research.google.com/assets/colab-badge.svg\" alt=\"Open In Colab\"/></a>"
      ]
    },
    {
      "cell_type": "code",
      "source": [
        "class BytePairEncoding():\n",
        "    def __init__(self):\n",
        "        self.vocab: list[str] = ['<s>'] # <s> - special token representing start of the word\n",
        "        self.merge_rule: dict = {}\n",
        "        self.stoi: dict = {} # mapping from token (str) to int\n",
        "        self.itos: dict = {} # mapping from int to token (str)\n",
        "\n",
        "    def gen_vocab(self, corpus: list[str], vocab_size: int):\n",
        "        '''\n",
        "        Based on a frequency of characters in the corpus, generates a vocabulary\n",
        "        of all available tokens and a set of rules used to encode plain text\n",
        "        into these tokens.\n",
        "\n",
        "            Parameters:\n",
        "                corpus (list[str]): list of text sequences\n",
        "                vocab_size (int): method ends when given vocab_size is reached\n",
        "        '''\n",
        "        [[c not in self.vocab and self.vocab.append(c) for c in seq] for seq in corpus]\n",
        "        corpus = \" \".join(corpus)\n",
        "        corpus = [list(word) for word in corpus.split(\" \")]\n",
        "        [word.insert(0, self.vocab[0]) for word in corpus]\n",
        "\n",
        "        # find most frequent pair of tokens and merge them together\n",
        "        while len(self.vocab) < vocab_size:\n",
        "            pair_freq = {}\n",
        "            for word in corpus:\n",
        "                for i in range(len(word) - 1):\n",
        "                    pair = (word[i], word[i+1])\n",
        "                    pair_freq[pair] = pair_freq.setdefault(pair, 0) + 1\n",
        "\n",
        "            max_pair = max(pair_freq, key=pair_freq.get)\n",
        "            pair = max_pair[0] + max_pair[1]\n",
        "            self.vocab.append(pair)\n",
        "            self.merge_rule[max_pair] = pair\n",
        "\n",
        "            for k in range(len(corpus)):\n",
        "                word = corpus[k]\n",
        "                for i in range(len(word) - 1):\n",
        "                    curr_pair = (word[i], word[i+1])\n",
        "                    if curr_pair == max_pair:\n",
        "                        corpus[k] = word[:i] + [word[i] + word[i+1]] + word[i+2:]\n",
        "\n",
        "        # create a mapping between tokens and integers\n",
        "        for i, token in enumerate(self.vocab):\n",
        "            self.stoi[token] = i\n",
        "            self.itos[i] = token\n",
        "\n",
        "    def tokenize(self, text: str) -> list[str]:\n",
        "        '''\n",
        "        Encodes text into a list of tokens based on previously generated\n",
        "        set of rules\n",
        "\n",
        "            Parameters:\n",
        "                text (str): plain text to encode\n",
        "\n",
        "            Returns:\n",
        "                encoded_text (list[str]): list of tokens from generated vocab\n",
        "        '''\n",
        "        text = [list(word) for word in text.split(\" \")]\n",
        "        [word.insert(0, self.vocab[0]) for word in text]\n",
        "\n",
        "        for pair, merged in self.merge_rule.items():\n",
        "            for k in range(len(text)):\n",
        "                word = text[k]\n",
        "                for i in range(len(word) - 1):\n",
        "                    curr_pair = (word[i], word[i+1])\n",
        "                    if curr_pair == pair:\n",
        "                        text[k] = word[:i] + [word[i] + word[i+1]] + word[i+2:]\n",
        "\n",
        "        return [token for word in text for token in word]\n",
        "\n",
        "    def detokenize(self, tokens: list[str]) -> str:\n",
        "        '''\n",
        "        Decodes list of tokens into a plain text\n",
        "\n",
        "            Parameters:\n",
        "                tokens (list[str]): sequence of tokens\n",
        "\n",
        "            Returns:\n",
        "                text (str): decoded text\n",
        "        '''\n",
        "        text = \"\".join(tokens)\n",
        "        return text.replace('<s>', ' ')"
      ],
      "metadata": {
        "id": "hVty3EQxu1_N"
      },
      "execution_count": null,
      "outputs": []
    },
    {
      "cell_type": "code",
      "source": [
        "sample_text = [\"In the realm of modern education, the impact of technology has been nothing short of revolutionary. Gone are the days of traditional blackboards and chalk; instead, interactive whiteboards and digital tablets have become commonplace in classrooms around the world. This technological revolution has not only transformed the way students learn but has also empowered educators with innovative tools to engage and inspire their students. With the advent of online learning platforms and virtual classrooms, geographical barriers have been shattered, allowing students to access quality education from anywhere with an internet connection. Furthermore, educational apps and software have revolutionized the learning experience, making it more interactive, personalized, and adaptive to individual student needs. From gamified learning modules to virtual reality simulations, technology has opened up new avenues for experiential and immersive learning, enabling students to grasp complex concepts with greater ease and retention. Moreover, the integration of artificial intelligence and machine learning algorithms has enabled educators to analyze vast amounts of student data, providing valuable insights into learning patterns and identifying areas where students may need additional support. Additionally, the rise of educational technology startups and edtech companies has spurred innovation and competition in the education sector, leading to the development of cutting-edge tools and resources for both students and teachers. However, despite the myriad benefits of technology in education, it also presents its own set of challenges and concerns. Issues such as the digital divide, unequal access to technology, and concerns about data privacy and security remain pressing issues that need to be addressed. Moreover, there is a growing concern about the potential negative impact of excessive screen time on students' mental health and well-being. Therefore, while technology undoubtedly holds great promise for the future of education, it is essential to strike a balance between harnessing its potential benefits and addressing its inherent challenges in order to ensure that all students have access to quality education in the digital age.\"]\n",
        "\n",
        "bpe = BytePairEncoding()\n",
        "bpe.gen_vocab(sample_text, 200)"
      ],
      "metadata": {
        "id": "D1P6N56z4qi4"
      },
      "execution_count": null,
      "outputs": []
    },
    {
      "cell_type": "code",
      "source": [
        "# print(bpe.vocab)\n",
        "# print(bpe.merge_rule)\n",
        "\n",
        "text = \"Technology has revolutionized modern education by providing interactive tools and resources\"\n",
        "tokenized = bpe.tokenize(text)\n",
        "print(tokenized)"
      ],
      "metadata": {
        "colab": {
          "base_uri": "https://localhost:8080/"
        },
        "id": "jgjkesKQ6ZBX",
        "outputId": "b6245369-fa33-4213-bf0a-44562af8f92a"
      },
      "execution_count": 45,
      "outputs": [
        {
          "output_type": "stream",
          "name": "stdout",
          "text": [
            "['<s>', 'T', 'ech', 'n', 'ol', 'og', 'y', '<s>has', '<s>revolution', 'i', 'z', 'ed', '<s>mod', 'ern', '<s>education', '<s>b', 'y', '<s>p', 'r', 'ov', 'id', 'ing', '<s>int', 'er', 'ac', 'tive', '<s>to', 'ol', 's', '<s>and', '<s>re', 's', 'ou', 'r', 'c', 'es']\n"
          ]
        }
      ]
    }
  ]
}